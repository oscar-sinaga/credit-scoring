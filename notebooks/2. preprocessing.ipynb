{
 "cells": [
  {
   "cell_type": "markdown",
   "metadata": {},
   "source": [
    "## 0. Load Required Libraries"
   ]
  },
  {
   "cell_type": "code",
   "execution_count": 1,
   "metadata": {},
   "outputs": [],
   "source": [
    "# !pip install imblearn"
   ]
  },
  {
   "cell_type": "code",
   "execution_count": 2,
   "metadata": {},
   "outputs": [],
   "source": [
    "import pandas as pd\n",
    "import numpy as np\n",
    "import seaborn as sns\n",
    "import src.util as util\n",
    "from imblearn.under_sampling import RandomUnderSampler\n",
    "from imblearn.over_sampling import RandomOverSampler, SMOTE\n",
    "from sklearn.preprocessing import LabelEncoder\n",
    "from sklearn.preprocessing import OneHotEncoder"
   ]
  },
  {
   "cell_type": "markdown",
   "metadata": {},
   "source": [
    "## 1. Import Configuration File"
   ]
  },
  {
   "cell_type": "code",
   "execution_count": 197,
   "metadata": {},
   "outputs": [],
   "source": [
    "config_data = util.load_config()\n",
    "\n"
   ]
  },
  {
   "cell_type": "markdown",
   "metadata": {},
   "source": [
    "## 2. Load Dataset"
   ]
  },
  {
   "cell_type": "code",
   "execution_count": 198,
   "metadata": {},
   "outputs": [],
   "source": [
    "def load_dataset(config_data: dict) -> pd.DataFrame:\n",
    "    # Load every set of data\n",
    "    x_train = util.pickle_load(config_data[\"train_set_path\"][0])\n",
    "    y_train = util.pickle_load(config_data[\"train_set_path\"][1])\n",
    "\n",
    "    x_valid = util.pickle_load(config_data[\"valid_set_path\"][0])\n",
    "    y_valid = util.pickle_load(config_data[\"valid_set_path\"][1])\n",
    "\n",
    "    x_test = util.pickle_load(config_data[\"test_set_path\"][0])\n",
    "    y_test = util.pickle_load(config_data[\"test_set_path\"][1])\n",
    "\n",
    "    # Concatenate x and y each set\n",
    "    train_set = pd.concat([x_train, y_train], axis = 1)\n",
    "    valid_set = pd.concat([x_valid, y_valid], axis = 1)\n",
    "    test_set = pd.concat([x_test, y_test], axis = 1)\n",
    "\n",
    "    # Return 3 set of data\n",
    "    return train_set, valid_set, test_set"
   ]
  },
  {
   "cell_type": "code",
   "execution_count": 199,
   "metadata": {},
   "outputs": [],
   "source": [
    "train_set, valid_set, test_set = load_dataset(config_data)"
   ]
  },
  {
   "cell_type": "markdown",
   "metadata": {},
   "source": [
    "## 3. Join Categories"
   ]
  },
  {
   "cell_type": "code",
   "execution_count": 6,
   "metadata": {},
   "outputs": [],
   "source": [
    "def join_label_categori(set_data, config_data):\n",
    "    # Check if label not found in set data\n",
    "    if config_data[\"label\"] in set_data.columns.to_list():\n",
    "        # Create copy of set data\n",
    "        set_data = set_data.copy()\n",
    "        return set_data\n",
    "    else:\n",
    "        raise RuntimeError(\"Kolom label tidak terdeteksi pada set data yang diberikan!\")"
   ]
  },
  {
   "cell_type": "markdown",
   "metadata": {},
   "source": [
    "### 3.1. Train Set"
   ]
  },
  {
   "cell_type": "code",
   "execution_count": 7,
   "metadata": {},
   "outputs": [
    {
     "data": {
      "text/plain": [
       "NPL\n",
       "Tidak    5678\n",
       "Ya        774\n",
       "Name: count, dtype: int64"
      ]
     },
     "execution_count": 7,
     "metadata": {},
     "output_type": "execute_result"
    }
   ],
   "source": [
    "train_set.NPL.value_counts()"
   ]
  },
  {
   "cell_type": "code",
   "execution_count": 8,
   "metadata": {},
   "outputs": [
    {
     "data": {
      "text/html": [
       "<div>\n",
       "<style scoped>\n",
       "    .dataframe tbody tr th:only-of-type {\n",
       "        vertical-align: middle;\n",
       "    }\n",
       "\n",
       "    .dataframe tbody tr th {\n",
       "        vertical-align: top;\n",
       "    }\n",
       "\n",
       "    .dataframe thead th {\n",
       "        text-align: right;\n",
       "    }\n",
       "</style>\n",
       "<table border=\"1\" class=\"dataframe\">\n",
       "  <thead>\n",
       "    <tr style=\"text-align: right;\">\n",
       "      <th></th>\n",
       "      <th>monthly_income</th>\n",
       "      <th>housing_type</th>\n",
       "      <th>num_of_dependent</th>\n",
       "      <th>lama_bekerja</th>\n",
       "      <th>otr</th>\n",
       "      <th>status_pernikahan</th>\n",
       "      <th>pekerjaan</th>\n",
       "      <th>tenor</th>\n",
       "      <th>dp</th>\n",
       "      <th>monthly_income_log</th>\n",
       "      <th>num_of_dependent_log</th>\n",
       "      <th>lama_bekerja_log</th>\n",
       "      <th>NPL</th>\n",
       "    </tr>\n",
       "  </thead>\n",
       "  <tbody>\n",
       "    <tr>\n",
       "      <th>5841</th>\n",
       "      <td>36968970</td>\n",
       "      <td>milik sendiri</td>\n",
       "      <td>1</td>\n",
       "      <td>0</td>\n",
       "      <td>5000000000</td>\n",
       "      <td>Nikah</td>\n",
       "      <td>Karyawan Swasta</td>\n",
       "      <td>36</td>\n",
       "      <td>1641200000</td>\n",
       "      <td>17.425589</td>\n",
       "      <td>0.693147</td>\n",
       "      <td>0.000000</td>\n",
       "      <td>Tidak</td>\n",
       "    </tr>\n",
       "    <tr>\n",
       "      <th>8881</th>\n",
       "      <td>61150000</td>\n",
       "      <td>milik orang tua</td>\n",
       "      <td>0</td>\n",
       "      <td>1</td>\n",
       "      <td>1000000000</td>\n",
       "      <td>Belum Nikah</td>\n",
       "      <td>Profesional</td>\n",
       "      <td>12</td>\n",
       "      <td>0</td>\n",
       "      <td>17.928840</td>\n",
       "      <td>0.000000</td>\n",
       "      <td>0.693147</td>\n",
       "      <td>Tidak</td>\n",
       "    </tr>\n",
       "    <tr>\n",
       "      <th>6470</th>\n",
       "      <td>46926970</td>\n",
       "      <td>milik sendiri</td>\n",
       "      <td>0</td>\n",
       "      <td>0</td>\n",
       "      <td>8000000000</td>\n",
       "      <td>Nikah</td>\n",
       "      <td>Karyawan Swasta</td>\n",
       "      <td>60</td>\n",
       "      <td>80000000</td>\n",
       "      <td>17.664103</td>\n",
       "      <td>0.000000</td>\n",
       "      <td>0.000000</td>\n",
       "      <td>Tidak</td>\n",
       "    </tr>\n",
       "    <tr>\n",
       "      <th>3976</th>\n",
       "      <td>30461540</td>\n",
       "      <td>milik sendiri</td>\n",
       "      <td>0</td>\n",
       "      <td>0</td>\n",
       "      <td>4000000000</td>\n",
       "      <td>Nikah</td>\n",
       "      <td>Wiraswasta</td>\n",
       "      <td>36</td>\n",
       "      <td>4000000000</td>\n",
       "      <td>17.231975</td>\n",
       "      <td>0.000000</td>\n",
       "      <td>0.000000</td>\n",
       "      <td>Ya</td>\n",
       "    </tr>\n",
       "    <tr>\n",
       "      <th>8091</th>\n",
       "      <td>36500000</td>\n",
       "      <td>milik sendiri</td>\n",
       "      <td>0</td>\n",
       "      <td>0</td>\n",
       "      <td>4500000000</td>\n",
       "      <td>Nikah</td>\n",
       "      <td>Profesional</td>\n",
       "      <td>36</td>\n",
       "      <td>2023200000</td>\n",
       "      <td>17.412823</td>\n",
       "      <td>0.000000</td>\n",
       "      <td>0.000000</td>\n",
       "      <td>Tidak</td>\n",
       "    </tr>\n",
       "    <tr>\n",
       "      <th>...</th>\n",
       "      <td>...</td>\n",
       "      <td>...</td>\n",
       "      <td>...</td>\n",
       "      <td>...</td>\n",
       "      <td>...</td>\n",
       "      <td>...</td>\n",
       "      <td>...</td>\n",
       "      <td>...</td>\n",
       "      <td>...</td>\n",
       "      <td>...</td>\n",
       "      <td>...</td>\n",
       "      <td>...</td>\n",
       "      <td>...</td>\n",
       "    </tr>\n",
       "    <tr>\n",
       "      <th>8813</th>\n",
       "      <td>36511140</td>\n",
       "      <td>milik orang tua</td>\n",
       "      <td>4</td>\n",
       "      <td>0</td>\n",
       "      <td>1000000000</td>\n",
       "      <td>Nikah</td>\n",
       "      <td>Profesional</td>\n",
       "      <td>12</td>\n",
       "      <td>0</td>\n",
       "      <td>17.413128</td>\n",
       "      <td>1.609438</td>\n",
       "      <td>0.000000</td>\n",
       "      <td>Tidak</td>\n",
       "    </tr>\n",
       "    <tr>\n",
       "      <th>2396</th>\n",
       "      <td>50424000</td>\n",
       "      <td>milik sendiri</td>\n",
       "      <td>0</td>\n",
       "      <td>0</td>\n",
       "      <td>6000000000</td>\n",
       "      <td>Belum Nikah</td>\n",
       "      <td>Wiraswasta</td>\n",
       "      <td>48</td>\n",
       "      <td>336000000</td>\n",
       "      <td>17.735978</td>\n",
       "      <td>0.000000</td>\n",
       "      <td>0.000000</td>\n",
       "      <td>Tidak</td>\n",
       "    </tr>\n",
       "    <tr>\n",
       "      <th>316</th>\n",
       "      <td>44968410</td>\n",
       "      <td>milik sendiri</td>\n",
       "      <td>0</td>\n",
       "      <td>1</td>\n",
       "      <td>3000000000</td>\n",
       "      <td>Nikah</td>\n",
       "      <td>Wiraswasta</td>\n",
       "      <td>24</td>\n",
       "      <td>1512000000</td>\n",
       "      <td>17.621471</td>\n",
       "      <td>0.000000</td>\n",
       "      <td>0.693147</td>\n",
       "      <td>Tidak</td>\n",
       "    </tr>\n",
       "    <tr>\n",
       "      <th>6214</th>\n",
       "      <td>41451900</td>\n",
       "      <td>milik sendiri</td>\n",
       "      <td>1</td>\n",
       "      <td>0</td>\n",
       "      <td>2500000000</td>\n",
       "      <td>Nikah</td>\n",
       "      <td>Profesional</td>\n",
       "      <td>24</td>\n",
       "      <td>1261600000</td>\n",
       "      <td>17.540044</td>\n",
       "      <td>0.693147</td>\n",
       "      <td>0.000000</td>\n",
       "      <td>Tidak</td>\n",
       "    </tr>\n",
       "    <tr>\n",
       "      <th>4564</th>\n",
       "      <td>36258000</td>\n",
       "      <td>milik sendiri</td>\n",
       "      <td>3</td>\n",
       "      <td>0</td>\n",
       "      <td>4000000000</td>\n",
       "      <td>Belum Nikah</td>\n",
       "      <td>Profesional</td>\n",
       "      <td>36</td>\n",
       "      <td>1170400000</td>\n",
       "      <td>17.406171</td>\n",
       "      <td>1.386294</td>\n",
       "      <td>0.000000</td>\n",
       "      <td>Tidak</td>\n",
       "    </tr>\n",
       "  </tbody>\n",
       "</table>\n",
       "<p>6452 rows × 13 columns</p>\n",
       "</div>"
      ],
      "text/plain": [
       "      monthly_income     housing_type  num_of_dependent  lama_bekerja  \\\n",
       "5841        36968970    milik sendiri                 1             0   \n",
       "8881        61150000  milik orang tua                 0             1   \n",
       "6470        46926970    milik sendiri                 0             0   \n",
       "3976        30461540    milik sendiri                 0             0   \n",
       "8091        36500000    milik sendiri                 0             0   \n",
       "...              ...              ...               ...           ...   \n",
       "8813        36511140  milik orang tua                 4             0   \n",
       "2396        50424000    milik sendiri                 0             0   \n",
       "316         44968410    milik sendiri                 0             1   \n",
       "6214        41451900    milik sendiri                 1             0   \n",
       "4564        36258000    milik sendiri                 3             0   \n",
       "\n",
       "             otr status_pernikahan        pekerjaan  tenor          dp  \\\n",
       "5841  5000000000             Nikah  Karyawan Swasta     36  1641200000   \n",
       "8881  1000000000       Belum Nikah      Profesional     12           0   \n",
       "6470  8000000000             Nikah  Karyawan Swasta     60    80000000   \n",
       "3976  4000000000             Nikah       Wiraswasta     36  4000000000   \n",
       "8091  4500000000             Nikah      Profesional     36  2023200000   \n",
       "...          ...               ...              ...    ...         ...   \n",
       "8813  1000000000             Nikah      Profesional     12           0   \n",
       "2396  6000000000       Belum Nikah       Wiraswasta     48   336000000   \n",
       "316   3000000000             Nikah       Wiraswasta     24  1512000000   \n",
       "6214  2500000000             Nikah      Profesional     24  1261600000   \n",
       "4564  4000000000       Belum Nikah      Profesional     36  1170400000   \n",
       "\n",
       "      monthly_income_log  num_of_dependent_log  lama_bekerja_log    NPL  \n",
       "5841           17.425589              0.693147          0.000000  Tidak  \n",
       "8881           17.928840              0.000000          0.693147  Tidak  \n",
       "6470           17.664103              0.000000          0.000000  Tidak  \n",
       "3976           17.231975              0.000000          0.000000     Ya  \n",
       "8091           17.412823              0.000000          0.000000  Tidak  \n",
       "...                  ...                   ...               ...    ...  \n",
       "8813           17.413128              1.609438          0.000000  Tidak  \n",
       "2396           17.735978              0.000000          0.000000  Tidak  \n",
       "316            17.621471              0.000000          0.693147  Tidak  \n",
       "6214           17.540044              0.693147          0.000000  Tidak  \n",
       "4564           17.406171              1.386294          0.000000  Tidak  \n",
       "\n",
       "[6452 rows x 13 columns]"
      ]
     },
     "execution_count": 8,
     "metadata": {},
     "output_type": "execute_result"
    }
   ],
   "source": [
    "train_set"
   ]
  },
  {
   "cell_type": "code",
   "execution_count": 9,
   "metadata": {},
   "outputs": [],
   "source": [
    "train_set = join_label_categori(train_set, config_data)"
   ]
  },
  {
   "cell_type": "code",
   "execution_count": 10,
   "metadata": {},
   "outputs": [
    {
     "data": {
      "text/plain": [
       "NPL\n",
       "Tidak    5678\n",
       "Ya        774\n",
       "Name: count, dtype: int64"
      ]
     },
     "execution_count": 10,
     "metadata": {},
     "output_type": "execute_result"
    }
   ],
   "source": [
    "train_set.NPL.value_counts()"
   ]
  },
  {
   "cell_type": "markdown",
   "metadata": {},
   "source": [
    "### 3.2. Valid Set"
   ]
  },
  {
   "cell_type": "code",
   "execution_count": 11,
   "metadata": {},
   "outputs": [
    {
     "data": {
      "text/plain": [
       "NPL\n",
       "Tidak    1217\n",
       "Ya        166\n",
       "Name: count, dtype: int64"
      ]
     },
     "execution_count": 11,
     "metadata": {},
     "output_type": "execute_result"
    }
   ],
   "source": [
    "valid_set.NPL.value_counts()"
   ]
  },
  {
   "cell_type": "code",
   "execution_count": 12,
   "metadata": {},
   "outputs": [],
   "source": [
    "valid_set = join_label_categori(valid_set, config_data)"
   ]
  },
  {
   "cell_type": "code",
   "execution_count": 13,
   "metadata": {},
   "outputs": [
    {
     "data": {
      "text/plain": [
       "NPL\n",
       "Tidak    1217\n",
       "Ya        166\n",
       "Name: count, dtype: int64"
      ]
     },
     "execution_count": 13,
     "metadata": {},
     "output_type": "execute_result"
    }
   ],
   "source": [
    "valid_set.NPL.value_counts()"
   ]
  },
  {
   "cell_type": "markdown",
   "metadata": {},
   "source": [
    "### 3.3. Test Set"
   ]
  },
  {
   "cell_type": "code",
   "execution_count": 14,
   "metadata": {},
   "outputs": [
    {
     "data": {
      "text/plain": [
       "NPL\n",
       "Tidak    1217\n",
       "Ya        166\n",
       "Name: count, dtype: int64"
      ]
     },
     "execution_count": 14,
     "metadata": {},
     "output_type": "execute_result"
    }
   ],
   "source": [
    "test_set.NPL.value_counts()"
   ]
  },
  {
   "cell_type": "code",
   "execution_count": 15,
   "metadata": {},
   "outputs": [],
   "source": [
    "test_set = join_label_categori(test_set, config_data)"
   ]
  },
  {
   "cell_type": "code",
   "execution_count": 16,
   "metadata": {},
   "outputs": [
    {
     "data": {
      "text/plain": [
       "NPL\n",
       "Tidak    1217\n",
       "Ya        166\n",
       "Name: count, dtype: int64"
      ]
     },
     "execution_count": 16,
     "metadata": {},
     "output_type": "execute_result"
    }
   ],
   "source": [
    "test_set.NPL.value_counts()"
   ]
  },
  {
   "cell_type": "markdown",
   "metadata": {},
   "source": [
    "## 4. Delete columns_being_logtransformed"
   ]
  },
  {
   "cell_type": "code",
   "execution_count": 17,
   "metadata": {},
   "outputs": [],
   "source": [
    "#function for delecting columns_being_logtransformed\n",
    "def delete_columns_being_logtransformed(set_data):\n",
    "    result = set_data.drop(config_data['columns_being_logtransformed'],axis=1)\n",
    "    return result"
   ]
  },
  {
   "cell_type": "markdown",
   "metadata": {},
   "source": [
    "### 4.1. Delete columns_being_logtransformed in train_set"
   ]
  },
  {
   "cell_type": "code",
   "execution_count": 18,
   "metadata": {},
   "outputs": [
    {
     "data": {
      "text/html": [
       "<div>\n",
       "<style scoped>\n",
       "    .dataframe tbody tr th:only-of-type {\n",
       "        vertical-align: middle;\n",
       "    }\n",
       "\n",
       "    .dataframe tbody tr th {\n",
       "        vertical-align: top;\n",
       "    }\n",
       "\n",
       "    .dataframe thead th {\n",
       "        text-align: right;\n",
       "    }\n",
       "</style>\n",
       "<table border=\"1\" class=\"dataframe\">\n",
       "  <thead>\n",
       "    <tr style=\"text-align: right;\">\n",
       "      <th></th>\n",
       "      <th>housing_type</th>\n",
       "      <th>otr</th>\n",
       "      <th>status_pernikahan</th>\n",
       "      <th>pekerjaan</th>\n",
       "      <th>tenor</th>\n",
       "      <th>dp</th>\n",
       "      <th>monthly_income_log</th>\n",
       "      <th>num_of_dependent_log</th>\n",
       "      <th>lama_bekerja_log</th>\n",
       "      <th>NPL</th>\n",
       "    </tr>\n",
       "  </thead>\n",
       "  <tbody>\n",
       "    <tr>\n",
       "      <th>5841</th>\n",
       "      <td>milik sendiri</td>\n",
       "      <td>5000000000</td>\n",
       "      <td>Nikah</td>\n",
       "      <td>Karyawan Swasta</td>\n",
       "      <td>36</td>\n",
       "      <td>1641200000</td>\n",
       "      <td>17.425589</td>\n",
       "      <td>0.693147</td>\n",
       "      <td>0.000000</td>\n",
       "      <td>Tidak</td>\n",
       "    </tr>\n",
       "    <tr>\n",
       "      <th>8881</th>\n",
       "      <td>milik orang tua</td>\n",
       "      <td>1000000000</td>\n",
       "      <td>Belum Nikah</td>\n",
       "      <td>Profesional</td>\n",
       "      <td>12</td>\n",
       "      <td>0</td>\n",
       "      <td>17.928840</td>\n",
       "      <td>0.000000</td>\n",
       "      <td>0.693147</td>\n",
       "      <td>Tidak</td>\n",
       "    </tr>\n",
       "    <tr>\n",
       "      <th>6470</th>\n",
       "      <td>milik sendiri</td>\n",
       "      <td>8000000000</td>\n",
       "      <td>Nikah</td>\n",
       "      <td>Karyawan Swasta</td>\n",
       "      <td>60</td>\n",
       "      <td>80000000</td>\n",
       "      <td>17.664103</td>\n",
       "      <td>0.000000</td>\n",
       "      <td>0.000000</td>\n",
       "      <td>Tidak</td>\n",
       "    </tr>\n",
       "    <tr>\n",
       "      <th>3976</th>\n",
       "      <td>milik sendiri</td>\n",
       "      <td>4000000000</td>\n",
       "      <td>Nikah</td>\n",
       "      <td>Wiraswasta</td>\n",
       "      <td>36</td>\n",
       "      <td>4000000000</td>\n",
       "      <td>17.231975</td>\n",
       "      <td>0.000000</td>\n",
       "      <td>0.000000</td>\n",
       "      <td>Ya</td>\n",
       "    </tr>\n",
       "    <tr>\n",
       "      <th>8091</th>\n",
       "      <td>milik sendiri</td>\n",
       "      <td>4500000000</td>\n",
       "      <td>Nikah</td>\n",
       "      <td>Profesional</td>\n",
       "      <td>36</td>\n",
       "      <td>2023200000</td>\n",
       "      <td>17.412823</td>\n",
       "      <td>0.000000</td>\n",
       "      <td>0.000000</td>\n",
       "      <td>Tidak</td>\n",
       "    </tr>\n",
       "    <tr>\n",
       "      <th>...</th>\n",
       "      <td>...</td>\n",
       "      <td>...</td>\n",
       "      <td>...</td>\n",
       "      <td>...</td>\n",
       "      <td>...</td>\n",
       "      <td>...</td>\n",
       "      <td>...</td>\n",
       "      <td>...</td>\n",
       "      <td>...</td>\n",
       "      <td>...</td>\n",
       "    </tr>\n",
       "    <tr>\n",
       "      <th>8813</th>\n",
       "      <td>milik orang tua</td>\n",
       "      <td>1000000000</td>\n",
       "      <td>Nikah</td>\n",
       "      <td>Profesional</td>\n",
       "      <td>12</td>\n",
       "      <td>0</td>\n",
       "      <td>17.413128</td>\n",
       "      <td>1.609438</td>\n",
       "      <td>0.000000</td>\n",
       "      <td>Tidak</td>\n",
       "    </tr>\n",
       "    <tr>\n",
       "      <th>2396</th>\n",
       "      <td>milik sendiri</td>\n",
       "      <td>6000000000</td>\n",
       "      <td>Belum Nikah</td>\n",
       "      <td>Wiraswasta</td>\n",
       "      <td>48</td>\n",
       "      <td>336000000</td>\n",
       "      <td>17.735978</td>\n",
       "      <td>0.000000</td>\n",
       "      <td>0.000000</td>\n",
       "      <td>Tidak</td>\n",
       "    </tr>\n",
       "    <tr>\n",
       "      <th>316</th>\n",
       "      <td>milik sendiri</td>\n",
       "      <td>3000000000</td>\n",
       "      <td>Nikah</td>\n",
       "      <td>Wiraswasta</td>\n",
       "      <td>24</td>\n",
       "      <td>1512000000</td>\n",
       "      <td>17.621471</td>\n",
       "      <td>0.000000</td>\n",
       "      <td>0.693147</td>\n",
       "      <td>Tidak</td>\n",
       "    </tr>\n",
       "    <tr>\n",
       "      <th>6214</th>\n",
       "      <td>milik sendiri</td>\n",
       "      <td>2500000000</td>\n",
       "      <td>Nikah</td>\n",
       "      <td>Profesional</td>\n",
       "      <td>24</td>\n",
       "      <td>1261600000</td>\n",
       "      <td>17.540044</td>\n",
       "      <td>0.693147</td>\n",
       "      <td>0.000000</td>\n",
       "      <td>Tidak</td>\n",
       "    </tr>\n",
       "    <tr>\n",
       "      <th>4564</th>\n",
       "      <td>milik sendiri</td>\n",
       "      <td>4000000000</td>\n",
       "      <td>Belum Nikah</td>\n",
       "      <td>Profesional</td>\n",
       "      <td>36</td>\n",
       "      <td>1170400000</td>\n",
       "      <td>17.406171</td>\n",
       "      <td>1.386294</td>\n",
       "      <td>0.000000</td>\n",
       "      <td>Tidak</td>\n",
       "    </tr>\n",
       "  </tbody>\n",
       "</table>\n",
       "<p>6452 rows × 10 columns</p>\n",
       "</div>"
      ],
      "text/plain": [
       "         housing_type         otr status_pernikahan        pekerjaan  tenor  \\\n",
       "5841    milik sendiri  5000000000             Nikah  Karyawan Swasta     36   \n",
       "8881  milik orang tua  1000000000       Belum Nikah      Profesional     12   \n",
       "6470    milik sendiri  8000000000             Nikah  Karyawan Swasta     60   \n",
       "3976    milik sendiri  4000000000             Nikah       Wiraswasta     36   \n",
       "8091    milik sendiri  4500000000             Nikah      Profesional     36   \n",
       "...               ...         ...               ...              ...    ...   \n",
       "8813  milik orang tua  1000000000             Nikah      Profesional     12   \n",
       "2396    milik sendiri  6000000000       Belum Nikah       Wiraswasta     48   \n",
       "316     milik sendiri  3000000000             Nikah       Wiraswasta     24   \n",
       "6214    milik sendiri  2500000000             Nikah      Profesional     24   \n",
       "4564    milik sendiri  4000000000       Belum Nikah      Profesional     36   \n",
       "\n",
       "              dp  monthly_income_log  num_of_dependent_log  lama_bekerja_log  \\\n",
       "5841  1641200000           17.425589              0.693147          0.000000   \n",
       "8881           0           17.928840              0.000000          0.693147   \n",
       "6470    80000000           17.664103              0.000000          0.000000   \n",
       "3976  4000000000           17.231975              0.000000          0.000000   \n",
       "8091  2023200000           17.412823              0.000000          0.000000   \n",
       "...          ...                 ...                   ...               ...   \n",
       "8813           0           17.413128              1.609438          0.000000   \n",
       "2396   336000000           17.735978              0.000000          0.000000   \n",
       "316   1512000000           17.621471              0.000000          0.693147   \n",
       "6214  1261600000           17.540044              0.693147          0.000000   \n",
       "4564  1170400000           17.406171              1.386294          0.000000   \n",
       "\n",
       "        NPL  \n",
       "5841  Tidak  \n",
       "8881  Tidak  \n",
       "6470  Tidak  \n",
       "3976     Ya  \n",
       "8091  Tidak  \n",
       "...     ...  \n",
       "8813  Tidak  \n",
       "2396  Tidak  \n",
       "316   Tidak  \n",
       "6214  Tidak  \n",
       "4564  Tidak  \n",
       "\n",
       "[6452 rows x 10 columns]"
      ]
     },
     "execution_count": 18,
     "metadata": {},
     "output_type": "execute_result"
    }
   ],
   "source": [
    "train_set = delete_columns_being_logtransformed(train_set)\n",
    "train_set"
   ]
  },
  {
   "cell_type": "markdown",
   "metadata": {},
   "source": [
    "### 4.2. Delete columns_being_logtransformed in valid_set"
   ]
  },
  {
   "cell_type": "code",
   "execution_count": 19,
   "metadata": {},
   "outputs": [
    {
     "data": {
      "text/html": [
       "<div>\n",
       "<style scoped>\n",
       "    .dataframe tbody tr th:only-of-type {\n",
       "        vertical-align: middle;\n",
       "    }\n",
       "\n",
       "    .dataframe tbody tr th {\n",
       "        vertical-align: top;\n",
       "    }\n",
       "\n",
       "    .dataframe thead th {\n",
       "        text-align: right;\n",
       "    }\n",
       "</style>\n",
       "<table border=\"1\" class=\"dataframe\">\n",
       "  <thead>\n",
       "    <tr style=\"text-align: right;\">\n",
       "      <th></th>\n",
       "      <th>housing_type</th>\n",
       "      <th>otr</th>\n",
       "      <th>status_pernikahan</th>\n",
       "      <th>pekerjaan</th>\n",
       "      <th>tenor</th>\n",
       "      <th>dp</th>\n",
       "      <th>monthly_income_log</th>\n",
       "      <th>num_of_dependent_log</th>\n",
       "      <th>lama_bekerja_log</th>\n",
       "      <th>NPL</th>\n",
       "    </tr>\n",
       "  </thead>\n",
       "  <tbody>\n",
       "    <tr>\n",
       "      <th>7064</th>\n",
       "      <td>milik sendiri</td>\n",
       "      <td>5000000000</td>\n",
       "      <td>Belum Nikah</td>\n",
       "      <td>Wiraswasta</td>\n",
       "      <td>36</td>\n",
       "      <td>2534000000</td>\n",
       "      <td>17.532741</td>\n",
       "      <td>0.000000</td>\n",
       "      <td>0.000000</td>\n",
       "      <td>Tidak</td>\n",
       "    </tr>\n",
       "    <tr>\n",
       "      <th>8962</th>\n",
       "      <td>milik sendiri</td>\n",
       "      <td>1000000000</td>\n",
       "      <td>Nikah</td>\n",
       "      <td>Profesional</td>\n",
       "      <td>12</td>\n",
       "      <td>0</td>\n",
       "      <td>17.553180</td>\n",
       "      <td>0.000000</td>\n",
       "      <td>0.000000</td>\n",
       "      <td>Tidak</td>\n",
       "    </tr>\n",
       "    <tr>\n",
       "      <th>7613</th>\n",
       "      <td>milik sendiri</td>\n",
       "      <td>3000000000</td>\n",
       "      <td>Belum Nikah</td>\n",
       "      <td>Profesional</td>\n",
       "      <td>24</td>\n",
       "      <td>3000000000</td>\n",
       "      <td>17.421432</td>\n",
       "      <td>0.000000</td>\n",
       "      <td>0.000000</td>\n",
       "      <td>Ya</td>\n",
       "    </tr>\n",
       "    <tr>\n",
       "      <th>7671</th>\n",
       "      <td>milik orang tua</td>\n",
       "      <td>6000000000</td>\n",
       "      <td>Nikah</td>\n",
       "      <td>Wiraswasta</td>\n",
       "      <td>48</td>\n",
       "      <td>6000000000</td>\n",
       "      <td>17.939414</td>\n",
       "      <td>0.000000</td>\n",
       "      <td>0.000000</td>\n",
       "      <td>Ya</td>\n",
       "    </tr>\n",
       "    <tr>\n",
       "      <th>8265</th>\n",
       "      <td>milik sendiri</td>\n",
       "      <td>3000000000</td>\n",
       "      <td>Belum Nikah</td>\n",
       "      <td>Profesional</td>\n",
       "      <td>24</td>\n",
       "      <td>3000000000</td>\n",
       "      <td>17.654855</td>\n",
       "      <td>0.000000</td>\n",
       "      <td>0.000000</td>\n",
       "      <td>Ya</td>\n",
       "    </tr>\n",
       "    <tr>\n",
       "      <th>...</th>\n",
       "      <td>...</td>\n",
       "      <td>...</td>\n",
       "      <td>...</td>\n",
       "      <td>...</td>\n",
       "      <td>...</td>\n",
       "      <td>...</td>\n",
       "      <td>...</td>\n",
       "      <td>...</td>\n",
       "      <td>...</td>\n",
       "      <td>...</td>\n",
       "    </tr>\n",
       "    <tr>\n",
       "      <th>6856</th>\n",
       "      <td>milik sendiri</td>\n",
       "      <td>7500000000</td>\n",
       "      <td>Nikah</td>\n",
       "      <td>Karyawan Swasta</td>\n",
       "      <td>60</td>\n",
       "      <td>2130000000</td>\n",
       "      <td>17.508240</td>\n",
       "      <td>1.945910</td>\n",
       "      <td>0.000000</td>\n",
       "      <td>Tidak</td>\n",
       "    </tr>\n",
       "    <tr>\n",
       "      <th>6444</th>\n",
       "      <td>kos</td>\n",
       "      <td>7000000000</td>\n",
       "      <td>Nikah</td>\n",
       "      <td>Profesional</td>\n",
       "      <td>48</td>\n",
       "      <td>4024000000</td>\n",
       "      <td>17.399030</td>\n",
       "      <td>0.000000</td>\n",
       "      <td>0.000000</td>\n",
       "      <td>Tidak</td>\n",
       "    </tr>\n",
       "    <tr>\n",
       "      <th>6292</th>\n",
       "      <td>milik sendiri</td>\n",
       "      <td>5000000000</td>\n",
       "      <td>Nikah</td>\n",
       "      <td>Profesional</td>\n",
       "      <td>36</td>\n",
       "      <td>5000000000</td>\n",
       "      <td>17.412275</td>\n",
       "      <td>0.000000</td>\n",
       "      <td>0.000000</td>\n",
       "      <td>Ya</td>\n",
       "    </tr>\n",
       "    <tr>\n",
       "      <th>2953</th>\n",
       "      <td>milik sendiri</td>\n",
       "      <td>8000000000</td>\n",
       "      <td>Belum Nikah</td>\n",
       "      <td>Profesional</td>\n",
       "      <td>60</td>\n",
       "      <td>3332000000</td>\n",
       "      <td>18.191268</td>\n",
       "      <td>0.693147</td>\n",
       "      <td>0.693147</td>\n",
       "      <td>Tidak</td>\n",
       "    </tr>\n",
       "    <tr>\n",
       "      <th>5344</th>\n",
       "      <td>milik sendiri</td>\n",
       "      <td>2000000000</td>\n",
       "      <td>Nikah</td>\n",
       "      <td>Profesional</td>\n",
       "      <td>12</td>\n",
       "      <td>1504400000</td>\n",
       "      <td>17.370859</td>\n",
       "      <td>0.000000</td>\n",
       "      <td>0.000000</td>\n",
       "      <td>Tidak</td>\n",
       "    </tr>\n",
       "  </tbody>\n",
       "</table>\n",
       "<p>1383 rows × 10 columns</p>\n",
       "</div>"
      ],
      "text/plain": [
       "         housing_type         otr status_pernikahan        pekerjaan  tenor  \\\n",
       "7064    milik sendiri  5000000000       Belum Nikah       Wiraswasta     36   \n",
       "8962    milik sendiri  1000000000             Nikah      Profesional     12   \n",
       "7613    milik sendiri  3000000000       Belum Nikah      Profesional     24   \n",
       "7671  milik orang tua  6000000000             Nikah       Wiraswasta     48   \n",
       "8265    milik sendiri  3000000000       Belum Nikah      Profesional     24   \n",
       "...               ...         ...               ...              ...    ...   \n",
       "6856    milik sendiri  7500000000             Nikah  Karyawan Swasta     60   \n",
       "6444              kos  7000000000             Nikah      Profesional     48   \n",
       "6292    milik sendiri  5000000000             Nikah      Profesional     36   \n",
       "2953    milik sendiri  8000000000       Belum Nikah      Profesional     60   \n",
       "5344    milik sendiri  2000000000             Nikah      Profesional     12   \n",
       "\n",
       "              dp  monthly_income_log  num_of_dependent_log  lama_bekerja_log  \\\n",
       "7064  2534000000           17.532741              0.000000          0.000000   \n",
       "8962           0           17.553180              0.000000          0.000000   \n",
       "7613  3000000000           17.421432              0.000000          0.000000   \n",
       "7671  6000000000           17.939414              0.000000          0.000000   \n",
       "8265  3000000000           17.654855              0.000000          0.000000   \n",
       "...          ...                 ...                   ...               ...   \n",
       "6856  2130000000           17.508240              1.945910          0.000000   \n",
       "6444  4024000000           17.399030              0.000000          0.000000   \n",
       "6292  5000000000           17.412275              0.000000          0.000000   \n",
       "2953  3332000000           18.191268              0.693147          0.693147   \n",
       "5344  1504400000           17.370859              0.000000          0.000000   \n",
       "\n",
       "        NPL  \n",
       "7064  Tidak  \n",
       "8962  Tidak  \n",
       "7613     Ya  \n",
       "7671     Ya  \n",
       "8265     Ya  \n",
       "...     ...  \n",
       "6856  Tidak  \n",
       "6444  Tidak  \n",
       "6292     Ya  \n",
       "2953  Tidak  \n",
       "5344  Tidak  \n",
       "\n",
       "[1383 rows x 10 columns]"
      ]
     },
     "execution_count": 19,
     "metadata": {},
     "output_type": "execute_result"
    }
   ],
   "source": [
    "valid_set = delete_columns_being_logtransformed(valid_set)\n",
    "valid_set"
   ]
  },
  {
   "cell_type": "markdown",
   "metadata": {},
   "source": [
    "### 4.1. Delete columns_being_logtransformed in test_set"
   ]
  },
  {
   "cell_type": "code",
   "execution_count": 20,
   "metadata": {},
   "outputs": [
    {
     "data": {
      "text/html": [
       "<div>\n",
       "<style scoped>\n",
       "    .dataframe tbody tr th:only-of-type {\n",
       "        vertical-align: middle;\n",
       "    }\n",
       "\n",
       "    .dataframe tbody tr th {\n",
       "        vertical-align: top;\n",
       "    }\n",
       "\n",
       "    .dataframe thead th {\n",
       "        text-align: right;\n",
       "    }\n",
       "</style>\n",
       "<table border=\"1\" class=\"dataframe\">\n",
       "  <thead>\n",
       "    <tr style=\"text-align: right;\">\n",
       "      <th></th>\n",
       "      <th>housing_type</th>\n",
       "      <th>otr</th>\n",
       "      <th>status_pernikahan</th>\n",
       "      <th>pekerjaan</th>\n",
       "      <th>tenor</th>\n",
       "      <th>dp</th>\n",
       "      <th>monthly_income_log</th>\n",
       "      <th>num_of_dependent_log</th>\n",
       "      <th>lama_bekerja_log</th>\n",
       "      <th>NPL</th>\n",
       "    </tr>\n",
       "  </thead>\n",
       "  <tbody>\n",
       "    <tr>\n",
       "      <th>361</th>\n",
       "      <td>kontrak</td>\n",
       "      <td>8000000000</td>\n",
       "      <td>Belum Nikah</td>\n",
       "      <td>Wiraswasta</td>\n",
       "      <td>60</td>\n",
       "      <td>1802000000</td>\n",
       "      <td>18.301390</td>\n",
       "      <td>0.693147</td>\n",
       "      <td>0.000000</td>\n",
       "      <td>Tidak</td>\n",
       "    </tr>\n",
       "    <tr>\n",
       "      <th>2316</th>\n",
       "      <td>milik pasangan</td>\n",
       "      <td>6000000000</td>\n",
       "      <td>Nikah</td>\n",
       "      <td>Profesional</td>\n",
       "      <td>48</td>\n",
       "      <td>1824000000</td>\n",
       "      <td>17.399030</td>\n",
       "      <td>3.258097</td>\n",
       "      <td>0.000000</td>\n",
       "      <td>Tidak</td>\n",
       "    </tr>\n",
       "    <tr>\n",
       "      <th>848</th>\n",
       "      <td>milik pasangan</td>\n",
       "      <td>8000000000</td>\n",
       "      <td>Nikah</td>\n",
       "      <td>Profesional</td>\n",
       "      <td>60</td>\n",
       "      <td>3332000000</td>\n",
       "      <td>17.625840</td>\n",
       "      <td>0.000000</td>\n",
       "      <td>0.000000</td>\n",
       "      <td>Tidak</td>\n",
       "    </tr>\n",
       "    <tr>\n",
       "      <th>5417</th>\n",
       "      <td>milik sendiri</td>\n",
       "      <td>2000000000</td>\n",
       "      <td>Nikah</td>\n",
       "      <td>Wiraswasta</td>\n",
       "      <td>12</td>\n",
       "      <td>1504400000</td>\n",
       "      <td>17.412823</td>\n",
       "      <td>0.693147</td>\n",
       "      <td>0.000000</td>\n",
       "      <td>Tidak</td>\n",
       "    </tr>\n",
       "    <tr>\n",
       "      <th>6445</th>\n",
       "      <td>kos</td>\n",
       "      <td>7000000000</td>\n",
       "      <td>Nikah</td>\n",
       "      <td>Profesional</td>\n",
       "      <td>48</td>\n",
       "      <td>4024000000</td>\n",
       "      <td>17.399030</td>\n",
       "      <td>0.000000</td>\n",
       "      <td>0.000000</td>\n",
       "      <td>Tidak</td>\n",
       "    </tr>\n",
       "    <tr>\n",
       "      <th>...</th>\n",
       "      <td>...</td>\n",
       "      <td>...</td>\n",
       "      <td>...</td>\n",
       "      <td>...</td>\n",
       "      <td>...</td>\n",
       "      <td>...</td>\n",
       "      <td>...</td>\n",
       "      <td>...</td>\n",
       "      <td>...</td>\n",
       "      <td>...</td>\n",
       "    </tr>\n",
       "    <tr>\n",
       "      <th>7721</th>\n",
       "      <td>milik sendiri</td>\n",
       "      <td>4000000000</td>\n",
       "      <td>Belum Nikah</td>\n",
       "      <td>Karyawan Swasta</td>\n",
       "      <td>36</td>\n",
       "      <td>1026400000</td>\n",
       "      <td>17.727534</td>\n",
       "      <td>0.693147</td>\n",
       "      <td>0.000000</td>\n",
       "      <td>Tidak</td>\n",
       "    </tr>\n",
       "    <tr>\n",
       "      <th>7911</th>\n",
       "      <td>milik sendiri</td>\n",
       "      <td>6000000000</td>\n",
       "      <td>Nikah</td>\n",
       "      <td>Profesional</td>\n",
       "      <td>48</td>\n",
       "      <td>2697600000</td>\n",
       "      <td>17.479072</td>\n",
       "      <td>0.000000</td>\n",
       "      <td>0.693147</td>\n",
       "      <td>Tidak</td>\n",
       "    </tr>\n",
       "    <tr>\n",
       "      <th>6766</th>\n",
       "      <td>milik orang tua</td>\n",
       "      <td>6000000000</td>\n",
       "      <td>Nikah</td>\n",
       "      <td>Wiraswasta</td>\n",
       "      <td>48</td>\n",
       "      <td>336000000</td>\n",
       "      <td>17.966734</td>\n",
       "      <td>0.000000</td>\n",
       "      <td>1.098612</td>\n",
       "      <td>Tidak</td>\n",
       "    </tr>\n",
       "    <tr>\n",
       "      <th>2134</th>\n",
       "      <td>kos</td>\n",
       "      <td>5000000000</td>\n",
       "      <td>Nikah</td>\n",
       "      <td>Wiraswasta</td>\n",
       "      <td>36</td>\n",
       "      <td>5000000000</td>\n",
       "      <td>17.461407</td>\n",
       "      <td>0.693147</td>\n",
       "      <td>0.000000</td>\n",
       "      <td>Ya</td>\n",
       "    </tr>\n",
       "    <tr>\n",
       "      <th>1387</th>\n",
       "      <td>milik sendiri</td>\n",
       "      <td>2000000000</td>\n",
       "      <td>Nikah</td>\n",
       "      <td>Karyawan Swasta</td>\n",
       "      <td>12</td>\n",
       "      <td>1396400000</td>\n",
       "      <td>17.402800</td>\n",
       "      <td>0.000000</td>\n",
       "      <td>0.000000</td>\n",
       "      <td>Tidak</td>\n",
       "    </tr>\n",
       "  </tbody>\n",
       "</table>\n",
       "<p>1383 rows × 10 columns</p>\n",
       "</div>"
      ],
      "text/plain": [
       "         housing_type         otr status_pernikahan        pekerjaan  tenor  \\\n",
       "361           kontrak  8000000000       Belum Nikah       Wiraswasta     60   \n",
       "2316   milik pasangan  6000000000             Nikah      Profesional     48   \n",
       "848    milik pasangan  8000000000             Nikah      Profesional     60   \n",
       "5417    milik sendiri  2000000000             Nikah       Wiraswasta     12   \n",
       "6445              kos  7000000000             Nikah      Profesional     48   \n",
       "...               ...         ...               ...              ...    ...   \n",
       "7721    milik sendiri  4000000000       Belum Nikah  Karyawan Swasta     36   \n",
       "7911    milik sendiri  6000000000             Nikah      Profesional     48   \n",
       "6766  milik orang tua  6000000000             Nikah       Wiraswasta     48   \n",
       "2134              kos  5000000000             Nikah       Wiraswasta     36   \n",
       "1387    milik sendiri  2000000000             Nikah  Karyawan Swasta     12   \n",
       "\n",
       "              dp  monthly_income_log  num_of_dependent_log  lama_bekerja_log  \\\n",
       "361   1802000000           18.301390              0.693147          0.000000   \n",
       "2316  1824000000           17.399030              3.258097          0.000000   \n",
       "848   3332000000           17.625840              0.000000          0.000000   \n",
       "5417  1504400000           17.412823              0.693147          0.000000   \n",
       "6445  4024000000           17.399030              0.000000          0.000000   \n",
       "...          ...                 ...                   ...               ...   \n",
       "7721  1026400000           17.727534              0.693147          0.000000   \n",
       "7911  2697600000           17.479072              0.000000          0.693147   \n",
       "6766   336000000           17.966734              0.000000          1.098612   \n",
       "2134  5000000000           17.461407              0.693147          0.000000   \n",
       "1387  1396400000           17.402800              0.000000          0.000000   \n",
       "\n",
       "        NPL  \n",
       "361   Tidak  \n",
       "2316  Tidak  \n",
       "848   Tidak  \n",
       "5417  Tidak  \n",
       "6445  Tidak  \n",
       "...     ...  \n",
       "7721  Tidak  \n",
       "7911  Tidak  \n",
       "6766  Tidak  \n",
       "2134     Ya  \n",
       "1387  Tidak  \n",
       "\n",
       "[1383 rows x 10 columns]"
      ]
     },
     "execution_count": 20,
     "metadata": {},
     "output_type": "execute_result"
    }
   ],
   "source": [
    "test_set = delete_columns_being_logtransformed(test_set)\n",
    "test_set"
   ]
  },
  {
   "cell_type": "markdown",
   "metadata": {},
   "source": [
    "## 5. Encoding NPL"
   ]
  },
  {
   "cell_type": "markdown",
   "metadata": {},
   "source": [
    "### 5.1. Fit OHE to Categorical Data"
   ]
  },
  {
   "cell_type": "code",
   "execution_count": 21,
   "metadata": {},
   "outputs": [
    {
     "name": "stderr",
     "output_type": "stream",
     "text": [
      "c:\\Users\\ACER\\AppData\\Local\\Programs\\Python\\Python311\\Lib\\site-packages\\sklearn\\preprocessing\\_encoders.py:972: FutureWarning: `sparse` was renamed to `sparse_output` in version 1.2 and will be removed in 1.4. `sparse_output` is ignored unless you leave `sparse` to its default value.\n",
      "  warnings.warn(\n",
      "c:\\Users\\ACER\\AppData\\Local\\Programs\\Python\\Python311\\Lib\\site-packages\\sklearn\\preprocessing\\_encoders.py:972: FutureWarning: `sparse` was renamed to `sparse_output` in version 1.2 and will be removed in 1.4. `sparse_output` is ignored unless you leave `sparse` to its default value.\n",
      "  warnings.warn(\n",
      "c:\\Users\\ACER\\AppData\\Local\\Programs\\Python\\Python311\\Lib\\site-packages\\sklearn\\preprocessing\\_encoders.py:972: FutureWarning: `sparse` was renamed to `sparse_output` in version 1.2 and will be removed in 1.4. `sparse_output` is ignored unless you leave `sparse` to its default value.\n",
      "  warnings.warn(\n"
     ]
    },
    {
     "data": {
      "text/html": [
       "<style>#sk-container-id-1 {color: black;}#sk-container-id-1 pre{padding: 0;}#sk-container-id-1 div.sk-toggleable {background-color: white;}#sk-container-id-1 label.sk-toggleable__label {cursor: pointer;display: block;width: 100%;margin-bottom: 0;padding: 0.3em;box-sizing: border-box;text-align: center;}#sk-container-id-1 label.sk-toggleable__label-arrow:before {content: \"▸\";float: left;margin-right: 0.25em;color: #696969;}#sk-container-id-1 label.sk-toggleable__label-arrow:hover:before {color: black;}#sk-container-id-1 div.sk-estimator:hover label.sk-toggleable__label-arrow:before {color: black;}#sk-container-id-1 div.sk-toggleable__content {max-height: 0;max-width: 0;overflow: hidden;text-align: left;background-color: #f0f8ff;}#sk-container-id-1 div.sk-toggleable__content pre {margin: 0.2em;color: black;border-radius: 0.25em;background-color: #f0f8ff;}#sk-container-id-1 input.sk-toggleable__control:checked~div.sk-toggleable__content {max-height: 200px;max-width: 100%;overflow: auto;}#sk-container-id-1 input.sk-toggleable__control:checked~label.sk-toggleable__label-arrow:before {content: \"▾\";}#sk-container-id-1 div.sk-estimator input.sk-toggleable__control:checked~label.sk-toggleable__label {background-color: #d4ebff;}#sk-container-id-1 div.sk-label input.sk-toggleable__control:checked~label.sk-toggleable__label {background-color: #d4ebff;}#sk-container-id-1 input.sk-hidden--visually {border: 0;clip: rect(1px 1px 1px 1px);clip: rect(1px, 1px, 1px, 1px);height: 1px;margin: -1px;overflow: hidden;padding: 0;position: absolute;width: 1px;}#sk-container-id-1 div.sk-estimator {font-family: monospace;background-color: #f0f8ff;border: 1px dotted black;border-radius: 0.25em;box-sizing: border-box;margin-bottom: 0.5em;}#sk-container-id-1 div.sk-estimator:hover {background-color: #d4ebff;}#sk-container-id-1 div.sk-parallel-item::after {content: \"\";width: 100%;border-bottom: 1px solid gray;flex-grow: 1;}#sk-container-id-1 div.sk-label:hover label.sk-toggleable__label {background-color: #d4ebff;}#sk-container-id-1 div.sk-serial::before {content: \"\";position: absolute;border-left: 1px solid gray;box-sizing: border-box;top: 0;bottom: 0;left: 50%;z-index: 0;}#sk-container-id-1 div.sk-serial {display: flex;flex-direction: column;align-items: center;background-color: white;padding-right: 0.2em;padding-left: 0.2em;position: relative;}#sk-container-id-1 div.sk-item {position: relative;z-index: 1;}#sk-container-id-1 div.sk-parallel {display: flex;align-items: stretch;justify-content: center;background-color: white;position: relative;}#sk-container-id-1 div.sk-item::before, #sk-container-id-1 div.sk-parallel-item::before {content: \"\";position: absolute;border-left: 1px solid gray;box-sizing: border-box;top: 0;bottom: 0;left: 50%;z-index: -1;}#sk-container-id-1 div.sk-parallel-item {display: flex;flex-direction: column;z-index: 1;position: relative;background-color: white;}#sk-container-id-1 div.sk-parallel-item:first-child::after {align-self: flex-end;width: 50%;}#sk-container-id-1 div.sk-parallel-item:last-child::after {align-self: flex-start;width: 50%;}#sk-container-id-1 div.sk-parallel-item:only-child::after {width: 0;}#sk-container-id-1 div.sk-dashed-wrapped {border: 1px dashed gray;margin: 0 0.4em 0.5em 0.4em;box-sizing: border-box;padding-bottom: 0.4em;background-color: white;}#sk-container-id-1 div.sk-label label {font-family: monospace;font-weight: bold;display: inline-block;line-height: 1.2em;}#sk-container-id-1 div.sk-label-container {text-align: center;}#sk-container-id-1 div.sk-container {/* jupyter's `normalize.less` sets `[hidden] { display: none; }` but bootstrap.min.css set `[hidden] { display: none !important; }` so we also need the `!important` here to be able to override the default hidden behavior on the sphinx rendered scikit-learn.org. See: https://github.com/scikit-learn/scikit-learn/issues/21755 */display: inline-block !important;position: relative;}#sk-container-id-1 div.sk-text-repr-fallback {display: none;}</style><div id=\"sk-container-id-1\" class=\"sk-top-container\"><div class=\"sk-text-repr-fallback\"><pre>OneHotEncoder(sparse=False, sparse_output=False)</pre><b>In a Jupyter environment, please rerun this cell to show the HTML representation or trust the notebook. <br />On GitHub, the HTML representation is unable to render, please try loading this page with nbviewer.org.</b></div><div class=\"sk-container\" hidden><div class=\"sk-item\"><div class=\"sk-estimator sk-toggleable\"><input class=\"sk-toggleable__control sk-hidden--visually\" id=\"sk-estimator-id-1\" type=\"checkbox\" checked><label for=\"sk-estimator-id-1\" class=\"sk-toggleable__label sk-toggleable__label-arrow\">OneHotEncoder</label><div class=\"sk-toggleable__content\"><pre>OneHotEncoder(sparse=False, sparse_output=False)</pre></div></div></div></div></div>"
      ],
      "text/plain": [
       "OneHotEncoder(sparse=False, sparse_output=False)"
      ]
     },
     "execution_count": 21,
     "metadata": {},
     "output_type": "execute_result"
    }
   ],
   "source": [
    "def ohe_fit(data_tobe_fitted: dict, ohe_path: str) -> OneHotEncoder:\n",
    "    # Create ohe object\n",
    "    ohe = OneHotEncoder(sparse = False)\n",
    "\n",
    "    # Fit ohe\n",
    "    ohe.fit(np.array(data_tobe_fitted).reshape(-1, 1))\n",
    "\n",
    "    # Save ohe object\n",
    "    util.pickle_dump(ohe, f'{ohe_path}.pkl')\n",
    "\n",
    "    # Return trained ohe\n",
    "    return ohe\n",
    "\n",
    "ohe_path = config_data[\"ohe_path\"]\n",
    "ohe_fit(config_data[\"range_housing_type\"], f\"{ohe_path}/ohe_housing_type\")\n",
    "ohe_fit(config_data[\"range_status_pernikahan\"], f\"{ohe_path}/ohe_status_pernikahan\")\n",
    "ohe_fit(config_data[\"range_pekerjaan\"], f\"{ohe_path}/ohe_pekerjaan\")\n"
   ]
  },
  {
   "cell_type": "code",
   "execution_count": 22,
   "metadata": {},
   "outputs": [],
   "source": [
    "def ohe_transform(set_data: pd.DataFrame, tranformed_column: str, ohe_path: str) -> pd.DataFrame:\n",
    "    # Create copy of set data\n",
    "    set_data = set_data.copy()\n",
    "\n",
    "    ohe_path = f\"{ohe_path}/ohe_{tranformed_column}.pkl\"\n",
    "\n",
    "    # Load ohe categorical\n",
    "    ohe_statiun = util.pickle_load(ohe_path)\n",
    "\n",
    "    # Transform variable categorical of set data, resulting array\n",
    "    categorical_features = ohe_statiun.transform(np.array(set_data[tranformed_column].to_list()).reshape(-1, 1))\n",
    "\n",
    "    # Convert to dataframe\n",
    "    categorical_features = pd.DataFrame(categorical_features.tolist(), columns = list(ohe_statiun.categories_[0]))\n",
    "\n",
    "    # Set index by original set data index\n",
    "    categorical_features.set_index(set_data.index, inplace = True)\n",
    "\n",
    "    # Concatenate new features with original set data\n",
    "    set_data = pd.concat([categorical_features, set_data], axis = 1)\n",
    "\n",
    "    # Drop categorical column\n",
    "    set_data.drop(columns = tranformed_column, inplace = True)\n",
    "\n",
    "    # Convert columns type to string\n",
    "    new_col = [str(col_name) for col_name in set_data.columns.to_list()]\n",
    "    set_data.columns = new_col\n",
    "\n",
    "    # Return new feature engineered set data\n",
    "    return set_data\n",
    "\n",
    "def ohe_transform_all(set_data):\n",
    "    result = ohe_transform(set_data, \"housing_type\", config_data[\"ohe_path\"])\n",
    "    result = ohe_transform(result, \"status_pernikahan\", config_data[\"ohe_path\"])\n",
    "    result = ohe_transform(result, \"pekerjaan\", config_data[\"ohe_path\"])\n",
    "    return result"
   ]
  },
  {
   "cell_type": "markdown",
   "metadata": {},
   "source": [
    "### 5.2. Train Set"
   ]
  },
  {
   "cell_type": "code",
   "execution_count": 23,
   "metadata": {},
   "outputs": [],
   "source": [
    "train_set = ohe_transform_all(train_set)"
   ]
  },
  {
   "cell_type": "markdown",
   "metadata": {},
   "source": [
    "### 5.3. Valid Set"
   ]
  },
  {
   "cell_type": "code",
   "execution_count": 24,
   "metadata": {},
   "outputs": [],
   "source": [
    "valid_set = ohe_transform_all(valid_set)"
   ]
  },
  {
   "cell_type": "markdown",
   "metadata": {},
   "source": [
    "### 5.4. Test Set"
   ]
  },
  {
   "cell_type": "code",
   "execution_count": 25,
   "metadata": {},
   "outputs": [],
   "source": [
    "test_set = ohe_transform_all(test_set)"
   ]
  },
  {
   "cell_type": "code",
   "execution_count": 196,
   "metadata": {},
   "outputs": [
    {
     "data": {
      "text/html": [
       "<div>\n",
       "<style scoped>\n",
       "    .dataframe tbody tr th:only-of-type {\n",
       "        vertical-align: middle;\n",
       "    }\n",
       "\n",
       "    .dataframe tbody tr th {\n",
       "        vertical-align: top;\n",
       "    }\n",
       "\n",
       "    .dataframe thead th {\n",
       "        text-align: right;\n",
       "    }\n",
       "</style>\n",
       "<table border=\"1\" class=\"dataframe\">\n",
       "  <thead>\n",
       "    <tr style=\"text-align: right;\">\n",
       "      <th></th>\n",
       "      <th>Buruh</th>\n",
       "      <th>Ibu Rumah Tangga/Pensiunan/Mahasiswa/Lainnya</th>\n",
       "      <th>Karyawan Swasta</th>\n",
       "      <th>PNS</th>\n",
       "      <th>Profesional</th>\n",
       "      <th>Wiraswasta</th>\n",
       "      <th>Belum Nikah</th>\n",
       "      <th>Nikah</th>\n",
       "      <th>kontrak</th>\n",
       "      <th>kos</th>\n",
       "      <th>milik orang tua</th>\n",
       "      <th>milik pasangan</th>\n",
       "      <th>milik sendiri</th>\n",
       "      <th>otr</th>\n",
       "      <th>tenor</th>\n",
       "      <th>dp</th>\n",
       "      <th>monthly_income_log</th>\n",
       "      <th>num_of_dependent_log</th>\n",
       "      <th>lama_bekerja_log</th>\n",
       "      <th>NPL</th>\n",
       "    </tr>\n",
       "  </thead>\n",
       "  <tbody>\n",
       "    <tr>\n",
       "      <th>361</th>\n",
       "      <td>0.0</td>\n",
       "      <td>0.0</td>\n",
       "      <td>0.0</td>\n",
       "      <td>0.0</td>\n",
       "      <td>0.0</td>\n",
       "      <td>1.0</td>\n",
       "      <td>1.0</td>\n",
       "      <td>0.0</td>\n",
       "      <td>1.0</td>\n",
       "      <td>0.0</td>\n",
       "      <td>0.0</td>\n",
       "      <td>0.0</td>\n",
       "      <td>0.0</td>\n",
       "      <td>8000000000</td>\n",
       "      <td>60</td>\n",
       "      <td>1802000000</td>\n",
       "      <td>18.301390</td>\n",
       "      <td>0.693147</td>\n",
       "      <td>0.000000</td>\n",
       "      <td>Tidak</td>\n",
       "    </tr>\n",
       "    <tr>\n",
       "      <th>2316</th>\n",
       "      <td>0.0</td>\n",
       "      <td>0.0</td>\n",
       "      <td>0.0</td>\n",
       "      <td>0.0</td>\n",
       "      <td>1.0</td>\n",
       "      <td>0.0</td>\n",
       "      <td>0.0</td>\n",
       "      <td>1.0</td>\n",
       "      <td>0.0</td>\n",
       "      <td>0.0</td>\n",
       "      <td>0.0</td>\n",
       "      <td>1.0</td>\n",
       "      <td>0.0</td>\n",
       "      <td>6000000000</td>\n",
       "      <td>48</td>\n",
       "      <td>1824000000</td>\n",
       "      <td>17.399030</td>\n",
       "      <td>3.258097</td>\n",
       "      <td>0.000000</td>\n",
       "      <td>Tidak</td>\n",
       "    </tr>\n",
       "    <tr>\n",
       "      <th>848</th>\n",
       "      <td>0.0</td>\n",
       "      <td>0.0</td>\n",
       "      <td>0.0</td>\n",
       "      <td>0.0</td>\n",
       "      <td>1.0</td>\n",
       "      <td>0.0</td>\n",
       "      <td>0.0</td>\n",
       "      <td>1.0</td>\n",
       "      <td>0.0</td>\n",
       "      <td>0.0</td>\n",
       "      <td>0.0</td>\n",
       "      <td>1.0</td>\n",
       "      <td>0.0</td>\n",
       "      <td>8000000000</td>\n",
       "      <td>60</td>\n",
       "      <td>3332000000</td>\n",
       "      <td>17.625840</td>\n",
       "      <td>0.000000</td>\n",
       "      <td>0.000000</td>\n",
       "      <td>Tidak</td>\n",
       "    </tr>\n",
       "    <tr>\n",
       "      <th>5417</th>\n",
       "      <td>0.0</td>\n",
       "      <td>0.0</td>\n",
       "      <td>0.0</td>\n",
       "      <td>0.0</td>\n",
       "      <td>0.0</td>\n",
       "      <td>1.0</td>\n",
       "      <td>0.0</td>\n",
       "      <td>1.0</td>\n",
       "      <td>0.0</td>\n",
       "      <td>0.0</td>\n",
       "      <td>0.0</td>\n",
       "      <td>0.0</td>\n",
       "      <td>1.0</td>\n",
       "      <td>2000000000</td>\n",
       "      <td>12</td>\n",
       "      <td>1504400000</td>\n",
       "      <td>17.412823</td>\n",
       "      <td>0.693147</td>\n",
       "      <td>0.000000</td>\n",
       "      <td>Tidak</td>\n",
       "    </tr>\n",
       "    <tr>\n",
       "      <th>6445</th>\n",
       "      <td>0.0</td>\n",
       "      <td>0.0</td>\n",
       "      <td>0.0</td>\n",
       "      <td>0.0</td>\n",
       "      <td>1.0</td>\n",
       "      <td>0.0</td>\n",
       "      <td>0.0</td>\n",
       "      <td>1.0</td>\n",
       "      <td>0.0</td>\n",
       "      <td>1.0</td>\n",
       "      <td>0.0</td>\n",
       "      <td>0.0</td>\n",
       "      <td>0.0</td>\n",
       "      <td>7000000000</td>\n",
       "      <td>48</td>\n",
       "      <td>4024000000</td>\n",
       "      <td>17.399030</td>\n",
       "      <td>0.000000</td>\n",
       "      <td>0.000000</td>\n",
       "      <td>Tidak</td>\n",
       "    </tr>\n",
       "    <tr>\n",
       "      <th>...</th>\n",
       "      <td>...</td>\n",
       "      <td>...</td>\n",
       "      <td>...</td>\n",
       "      <td>...</td>\n",
       "      <td>...</td>\n",
       "      <td>...</td>\n",
       "      <td>...</td>\n",
       "      <td>...</td>\n",
       "      <td>...</td>\n",
       "      <td>...</td>\n",
       "      <td>...</td>\n",
       "      <td>...</td>\n",
       "      <td>...</td>\n",
       "      <td>...</td>\n",
       "      <td>...</td>\n",
       "      <td>...</td>\n",
       "      <td>...</td>\n",
       "      <td>...</td>\n",
       "      <td>...</td>\n",
       "      <td>...</td>\n",
       "    </tr>\n",
       "    <tr>\n",
       "      <th>7721</th>\n",
       "      <td>0.0</td>\n",
       "      <td>0.0</td>\n",
       "      <td>1.0</td>\n",
       "      <td>0.0</td>\n",
       "      <td>0.0</td>\n",
       "      <td>0.0</td>\n",
       "      <td>1.0</td>\n",
       "      <td>0.0</td>\n",
       "      <td>0.0</td>\n",
       "      <td>0.0</td>\n",
       "      <td>0.0</td>\n",
       "      <td>0.0</td>\n",
       "      <td>1.0</td>\n",
       "      <td>4000000000</td>\n",
       "      <td>36</td>\n",
       "      <td>1026400000</td>\n",
       "      <td>17.727534</td>\n",
       "      <td>0.693147</td>\n",
       "      <td>0.000000</td>\n",
       "      <td>Tidak</td>\n",
       "    </tr>\n",
       "    <tr>\n",
       "      <th>7911</th>\n",
       "      <td>0.0</td>\n",
       "      <td>0.0</td>\n",
       "      <td>0.0</td>\n",
       "      <td>0.0</td>\n",
       "      <td>1.0</td>\n",
       "      <td>0.0</td>\n",
       "      <td>0.0</td>\n",
       "      <td>1.0</td>\n",
       "      <td>0.0</td>\n",
       "      <td>0.0</td>\n",
       "      <td>0.0</td>\n",
       "      <td>0.0</td>\n",
       "      <td>1.0</td>\n",
       "      <td>6000000000</td>\n",
       "      <td>48</td>\n",
       "      <td>2697600000</td>\n",
       "      <td>17.479072</td>\n",
       "      <td>0.000000</td>\n",
       "      <td>0.693147</td>\n",
       "      <td>Tidak</td>\n",
       "    </tr>\n",
       "    <tr>\n",
       "      <th>6766</th>\n",
       "      <td>0.0</td>\n",
       "      <td>0.0</td>\n",
       "      <td>0.0</td>\n",
       "      <td>0.0</td>\n",
       "      <td>0.0</td>\n",
       "      <td>1.0</td>\n",
       "      <td>0.0</td>\n",
       "      <td>1.0</td>\n",
       "      <td>0.0</td>\n",
       "      <td>0.0</td>\n",
       "      <td>1.0</td>\n",
       "      <td>0.0</td>\n",
       "      <td>0.0</td>\n",
       "      <td>6000000000</td>\n",
       "      <td>48</td>\n",
       "      <td>336000000</td>\n",
       "      <td>17.966734</td>\n",
       "      <td>0.000000</td>\n",
       "      <td>1.098612</td>\n",
       "      <td>Tidak</td>\n",
       "    </tr>\n",
       "    <tr>\n",
       "      <th>2134</th>\n",
       "      <td>0.0</td>\n",
       "      <td>0.0</td>\n",
       "      <td>0.0</td>\n",
       "      <td>0.0</td>\n",
       "      <td>0.0</td>\n",
       "      <td>1.0</td>\n",
       "      <td>0.0</td>\n",
       "      <td>1.0</td>\n",
       "      <td>0.0</td>\n",
       "      <td>1.0</td>\n",
       "      <td>0.0</td>\n",
       "      <td>0.0</td>\n",
       "      <td>0.0</td>\n",
       "      <td>5000000000</td>\n",
       "      <td>36</td>\n",
       "      <td>5000000000</td>\n",
       "      <td>17.461407</td>\n",
       "      <td>0.693147</td>\n",
       "      <td>0.000000</td>\n",
       "      <td>Ya</td>\n",
       "    </tr>\n",
       "    <tr>\n",
       "      <th>1387</th>\n",
       "      <td>0.0</td>\n",
       "      <td>0.0</td>\n",
       "      <td>1.0</td>\n",
       "      <td>0.0</td>\n",
       "      <td>0.0</td>\n",
       "      <td>0.0</td>\n",
       "      <td>0.0</td>\n",
       "      <td>1.0</td>\n",
       "      <td>0.0</td>\n",
       "      <td>0.0</td>\n",
       "      <td>0.0</td>\n",
       "      <td>0.0</td>\n",
       "      <td>1.0</td>\n",
       "      <td>2000000000</td>\n",
       "      <td>12</td>\n",
       "      <td>1396400000</td>\n",
       "      <td>17.402800</td>\n",
       "      <td>0.000000</td>\n",
       "      <td>0.000000</td>\n",
       "      <td>Tidak</td>\n",
       "    </tr>\n",
       "  </tbody>\n",
       "</table>\n",
       "<p>1383 rows × 20 columns</p>\n",
       "</div>"
      ],
      "text/plain": [
       "      Buruh  Ibu Rumah Tangga/Pensiunan/Mahasiswa/Lainnya  Karyawan Swasta  \\\n",
       "361     0.0                                           0.0              0.0   \n",
       "2316    0.0                                           0.0              0.0   \n",
       "848     0.0                                           0.0              0.0   \n",
       "5417    0.0                                           0.0              0.0   \n",
       "6445    0.0                                           0.0              0.0   \n",
       "...     ...                                           ...              ...   \n",
       "7721    0.0                                           0.0              1.0   \n",
       "7911    0.0                                           0.0              0.0   \n",
       "6766    0.0                                           0.0              0.0   \n",
       "2134    0.0                                           0.0              0.0   \n",
       "1387    0.0                                           0.0              1.0   \n",
       "\n",
       "      PNS  Profesional  Wiraswasta  Belum Nikah  Nikah  kontrak  kos  \\\n",
       "361   0.0          0.0         1.0          1.0    0.0      1.0  0.0   \n",
       "2316  0.0          1.0         0.0          0.0    1.0      0.0  0.0   \n",
       "848   0.0          1.0         0.0          0.0    1.0      0.0  0.0   \n",
       "5417  0.0          0.0         1.0          0.0    1.0      0.0  0.0   \n",
       "6445  0.0          1.0         0.0          0.0    1.0      0.0  1.0   \n",
       "...   ...          ...         ...          ...    ...      ...  ...   \n",
       "7721  0.0          0.0         0.0          1.0    0.0      0.0  0.0   \n",
       "7911  0.0          1.0         0.0          0.0    1.0      0.0  0.0   \n",
       "6766  0.0          0.0         1.0          0.0    1.0      0.0  0.0   \n",
       "2134  0.0          0.0         1.0          0.0    1.0      0.0  1.0   \n",
       "1387  0.0          0.0         0.0          0.0    1.0      0.0  0.0   \n",
       "\n",
       "      milik orang tua  milik pasangan  milik sendiri         otr  tenor  \\\n",
       "361               0.0             0.0            0.0  8000000000     60   \n",
       "2316              0.0             1.0            0.0  6000000000     48   \n",
       "848               0.0             1.0            0.0  8000000000     60   \n",
       "5417              0.0             0.0            1.0  2000000000     12   \n",
       "6445              0.0             0.0            0.0  7000000000     48   \n",
       "...               ...             ...            ...         ...    ...   \n",
       "7721              0.0             0.0            1.0  4000000000     36   \n",
       "7911              0.0             0.0            1.0  6000000000     48   \n",
       "6766              1.0             0.0            0.0  6000000000     48   \n",
       "2134              0.0             0.0            0.0  5000000000     36   \n",
       "1387              0.0             0.0            1.0  2000000000     12   \n",
       "\n",
       "              dp  monthly_income_log  num_of_dependent_log  lama_bekerja_log  \\\n",
       "361   1802000000           18.301390              0.693147          0.000000   \n",
       "2316  1824000000           17.399030              3.258097          0.000000   \n",
       "848   3332000000           17.625840              0.000000          0.000000   \n",
       "5417  1504400000           17.412823              0.693147          0.000000   \n",
       "6445  4024000000           17.399030              0.000000          0.000000   \n",
       "...          ...                 ...                   ...               ...   \n",
       "7721  1026400000           17.727534              0.693147          0.000000   \n",
       "7911  2697600000           17.479072              0.000000          0.693147   \n",
       "6766   336000000           17.966734              0.000000          1.098612   \n",
       "2134  5000000000           17.461407              0.693147          0.000000   \n",
       "1387  1396400000           17.402800              0.000000          0.000000   \n",
       "\n",
       "        NPL  \n",
       "361   Tidak  \n",
       "2316  Tidak  \n",
       "848   Tidak  \n",
       "5417  Tidak  \n",
       "6445  Tidak  \n",
       "...     ...  \n",
       "7721  Tidak  \n",
       "7911  Tidak  \n",
       "6766  Tidak  \n",
       "2134     Ya  \n",
       "1387  Tidak  \n",
       "\n",
       "[1383 rows x 20 columns]"
      ]
     },
     "execution_count": 196,
     "metadata": {},
     "output_type": "execute_result"
    }
   ],
   "source": [
    "test_set"
   ]
  },
  {
   "cell_type": "markdown",
   "metadata": {},
   "source": [
    "## 6. Balancing Label"
   ]
  },
  {
   "cell_type": "code",
   "execution_count": 30,
   "metadata": {},
   "outputs": [
    {
     "data": {
      "text/plain": [
       "<Axes: xlabel='NPL', ylabel='Count'>"
      ]
     },
     "execution_count": 30,
     "metadata": {},
     "output_type": "execute_result"
    },
    {
     "data": {
      "image/png": "[encoded data removed]",
      "text/plain": [
       "<Figure size 640x480 with 1 Axes>"
      ]
     },
     "metadata": {},
     "output_type": "display_data"
    }
   ],
   "source": [
    "sns.histplot(data = train_set, x = \"NPL\", hue = \"NPL\")"
   ]
  },
  {
   "cell_type": "markdown",
   "metadata": {},
   "source": [
    "### 6.1. Undersampling"
   ]
  },
  {
   "cell_type": "code",
   "execution_count": 31,
   "metadata": {},
   "outputs": [],
   "source": [
    "def rus_fit_resample(set_data: pd.DataFrame) -> pd.DataFrame:\n",
    "    # Create copy of set data\n",
    "    set_data = set_data.copy()\n",
    "\n",
    "    # Create sampling object\n",
    "    rus = RandomUnderSampler(random_state = 26)\n",
    "\n",
    "    # Balancing set data\n",
    "    x_rus, y_rus = rus.fit_resample(set_data.drop(\"NPL\", axis = 1), set_data.NPL)\n",
    "\n",
    "    # Concatenate balanced data\n",
    "    set_data_rus = pd.concat([x_rus, y_rus], axis = 1)\n",
    "\n",
    "    # Return balanced data\n",
    "    return set_data_rus"
   ]
  },
  {
   "cell_type": "code",
   "execution_count": 35,
   "metadata": {},
   "outputs": [],
   "source": [
    "train_set_rus = rus_fit_resample(train_set)"
   ]
  },
  {
   "cell_type": "code",
   "execution_count": 36,
   "metadata": {},
   "outputs": [
    {
     "data": {
      "text/plain": [
       "<Axes: xlabel='NPL', ylabel='Count'>"
      ]
     },
     "execution_count": 36,
     "metadata": {},
     "output_type": "execute_result"
    },
    {
     "data": {
      "image/png": "[encoded data removed]",
      "text/plain": [
       "<Figure size 640x480 with 1 Axes>"
      ]
     },
     "metadata": {},
     "output_type": "display_data"
    }
   ],
   "source": [
    "sns.histplot(train_set_rus, x = \"NPL\", hue = \"NPL\")"
   ]
  },
  {
   "cell_type": "markdown",
   "metadata": {},
   "source": [
    "### 6.2. Oversampling"
   ]
  },
  {
   "cell_type": "code",
   "execution_count": 37,
   "metadata": {},
   "outputs": [],
   "source": [
    "def ros_fit_resample(set_data: pd.DataFrame) -> pd.DataFrame:\n",
    "    # Create copy of set data\n",
    "    set_data = set_data.copy()\n",
    "\n",
    "    # Create sampling object\n",
    "    ros = RandomOverSampler(random_state = 11)\n",
    "\n",
    "    # Balancing set data\n",
    "    x_ros, y_ros = ros.fit_resample(set_data.drop(\"NPL\", axis = 1), set_data.NPL)\n",
    "\n",
    "    # Concatenate balanced data\n",
    "    set_data_ros = pd.concat([x_ros, y_ros], axis = 1)\n",
    "\n",
    "    # Return balanced data\n",
    "    return set_data_ros"
   ]
  },
  {
   "cell_type": "code",
   "execution_count": 41,
   "metadata": {},
   "outputs": [],
   "source": [
    "train_set_ros = ros_fit_resample(train_set)"
   ]
  },
  {
   "cell_type": "code",
   "execution_count": 42,
   "metadata": {},
   "outputs": [
    {
     "data": {
      "text/plain": [
       "<Axes: xlabel='NPL', ylabel='Count'>"
      ]
     },
     "execution_count": 42,
     "metadata": {},
     "output_type": "execute_result"
    },
    {
     "data": {
      "image/png": "[encoded data removed]",
      "text/plain": [
       "<Figure size 640x480 with 1 Axes>"
      ]
     },
     "metadata": {},
     "output_type": "display_data"
    }
   ],
   "source": [
    "sns.histplot(train_set_ros, x = \"NPL\", hue = \"NPL\")"
   ]
  },
  {
   "cell_type": "markdown",
   "metadata": {},
   "source": [
    "### 6.3. SMOTE"
   ]
  },
  {
   "cell_type": "code",
   "execution_count": 43,
   "metadata": {},
   "outputs": [],
   "source": [
    "def sm_fit_resample(set_data: pd.DataFrame) -> pd.DataFrame:\n",
    "    # Create copy of set data\n",
    "    set_data = set_data.copy()\n",
    "\n",
    "    # Create sampling object\n",
    "    sm = SMOTE(random_state = 112)\n",
    "\n",
    "    # Balancing set data\n",
    "    x_sm, y_sm = sm.fit_resample(set_data.drop(\"NPL\", axis = 1), set_data.NPL)\n",
    "\n",
    "    # Concatenate balanced data\n",
    "    set_data_sm = pd.concat([x_sm, y_sm], axis = 1)\n",
    "\n",
    "    # Return balanced data\n",
    "    return set_data_sm"
   ]
  },
  {
   "cell_type": "code",
   "execution_count": 44,
   "metadata": {},
   "outputs": [],
   "source": [
    "train_set_sm = sm_fit_resample(train_set)"
   ]
  },
  {
   "cell_type": "code",
   "execution_count": 46,
   "metadata": {},
   "outputs": [
    {
     "data": {
      "text/plain": [
       "<Axes: xlabel='NPL', ylabel='Count'>"
      ]
     },
     "execution_count": 46,
     "metadata": {},
     "output_type": "execute_result"
    },
    {
     "data": {
      "image/png": "[encoded data removed]",
      "text/plain": [
       "<Figure size 640x480 with 1 Axes>"
      ]
     },
     "metadata": {},
     "output_type": "display_data"
    }
   ],
   "source": [
    "sns.histplot(train_set_sm, x = \"NPL\", hue = \"NPL\")"
   ]
  },
  {
   "cell_type": "markdown",
   "metadata": {},
   "source": [
    "## 7. Label Encoding"
   ]
  },
  {
   "cell_type": "markdown",
   "metadata": {},
   "source": [
    "### 7.1. Fit LE to Label Data"
   ]
  },
  {
   "cell_type": "code",
   "execution_count": 35,
   "metadata": {},
   "outputs": [],
   "source": [
    "def le_fit(data_tobe_fitted: dict, le_path: str) -> LabelEncoder:\n",
    "    # Create le object\n",
    "    le_encoder = LabelEncoder()\n",
    "\n",
    "    # Fit le\n",
    "    le_encoder.fit(data_tobe_fitted)\n",
    "\n",
    "    # Save le object\n",
    "    util.pickle_dump(le_encoder, le_path)\n",
    "\n",
    "    # Return trained le\n",
    "    return le_encoder"
   ]
  },
  {
   "cell_type": "code",
   "execution_count": 48,
   "metadata": {},
   "outputs": [],
   "source": [
    "le_encoder = le_fit(config_data[\"label_categories\"], config_data[\"le_encoder_path\"])"
   ]
  },
  {
   "cell_type": "code",
   "execution_count": 36,
   "metadata": {},
   "outputs": [],
   "source": [
    "def le_transform(label_data: pd.Series, config_data: dict) -> pd.Series:\n",
    "    # Create copy of label_data\n",
    "    label_data = label_data.copy()\n",
    "\n",
    "    # Load le encoder\n",
    "    le_encoder = util.pickle_load(config_data[\"le_encoder_path\"])\n",
    "\n",
    "    # If categories both label data and trained le matched\n",
    "    if len(set(label_data.unique()) - set(le_encoder.classes_) | set(le_encoder.classes_) - set(label_data.unique())) == 0:\n",
    "        # Transform label data\n",
    "        label_data = le_encoder.transform(label_data)\n",
    "    else:\n",
    "        raise RuntimeError(\"Check category in label data and label encoder.\")\n",
    "    \n",
    "    # Return transformed label data\n",
    "    return label_data\n"
   ]
  },
  {
   "cell_type": "markdown",
   "metadata": {},
   "source": [
    "### 7.2. Undersampling set"
   ]
  },
  {
   "cell_type": "code",
   "execution_count": 53,
   "metadata": {},
   "outputs": [],
   "source": [
    "train_set_rus.NPL = le_transform(train_set_rus.NPL, config_data)\n"
   ]
  },
  {
   "cell_type": "markdown",
   "metadata": {},
   "source": [
    "### 7.3. Oversampling set"
   ]
  },
  {
   "cell_type": "code",
   "execution_count": 55,
   "metadata": {},
   "outputs": [],
   "source": [
    "train_set_ros.NPL = le_transform(train_set_ros.NPL, config_data)"
   ]
  },
  {
   "cell_type": "markdown",
   "metadata": {},
   "source": [
    "#### 7.4. SMOTE"
   ]
  },
  {
   "cell_type": "code",
   "execution_count": 56,
   "metadata": {},
   "outputs": [],
   "source": [
    "train_set_sm.NPL = le_transform(train_set_sm.NPL, config_data)"
   ]
  },
  {
   "cell_type": "markdown",
   "metadata": {},
   "source": [
    "#### 7.4. Validation Set"
   ]
  },
  {
   "cell_type": "code",
   "execution_count": 57,
   "metadata": {},
   "outputs": [],
   "source": [
    "valid_set.NPL = le_transform(valid_set.NPL, config_data)"
   ]
  },
  {
   "cell_type": "markdown",
   "metadata": {},
   "source": [
    "#### 7.5. Test Set"
   ]
  },
  {
   "cell_type": "code",
   "execution_count": 58,
   "metadata": {},
   "outputs": [],
   "source": [
    "test_set.NPL = le_transform(test_set.NPL, config_data)"
   ]
  },
  {
   "cell_type": "markdown",
   "metadata": {},
   "source": [
    "## 8. Dump Dataset"
   ]
  },
  {
   "cell_type": "code",
   "execution_count": 59,
   "metadata": {},
   "outputs": [],
   "source": [
    "x_train = {\n",
    "    \"Undersampling\" : train_set_rus.drop(columns = \"NPL\"),\n",
    "    \"Oversampling\" : train_set_ros.drop(columns = \"NPL\"),\n",
    "    \"SMOTE\" : train_set_sm.drop(columns = \"NPL\")\n",
    "}\n",
    "\n",
    "y_train = {\n",
    "    \"Undersampling\" : train_set_rus.NPL,\n",
    "    \"Oversampling\" : train_set_ros.NPL,\n",
    "    \"SMOTE\" : train_set_sm.NPL\n",
    "}"
   ]
  },
  {
   "cell_type": "code",
   "execution_count": 61,
   "metadata": {},
   "outputs": [],
   "source": [
    "util.pickle_dump(x_train, \"data/processed/x_train_feng.pkl\")\n",
    "util.pickle_dump(y_train, \"data/processed/y_train_feng.pkl\")\n",
    "\n",
    "util.pickle_dump(valid_set.drop(columns = \"NPL\"), \"data/processed/x_valid_feng.pkl\")\n",
    "util.pickle_dump(valid_set.NPL, \"data/processed/y_valid_feng.pkl\")\n",
    "\n",
    "util.pickle_dump(test_set.drop(columns = \"NPL\"), \"data/processed/x_test_feng.pkl\")\n",
    "util.pickle_dump(test_set.NPL, \"data/processed/y_test_feng.pkl\")"
   ]
  }
 ],
 "metadata": {
  "kernelspec": {
   "display_name": "Python 3 (ipykernel)",
   "language": "python",
   "name": "python3"
  },
  "language_info": {
   "codemirror_mode": {
    "name": "ipython",
    "version": 3
   },
   "file_extension": ".py",
   "mimetype": "text/x-python",
   "name": "python",
   "nbconvert_exporter": "python",
   "pygments_lexer": "ipython3",
   "version": "3.11.4"
  },
  "vscode": {
   "interpreter": {
    "hash": "f6b5ba345f865ccab9c1d1dba86e394ca61d67366183ce7e182371ee31a721f6"
   }
  }
 },
 "nbformat": 4,
 "nbformat_minor": 4
}
